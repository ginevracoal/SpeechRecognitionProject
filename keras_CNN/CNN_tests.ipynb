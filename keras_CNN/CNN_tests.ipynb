{
 "cells": [
  {
   "cell_type": "markdown",
   "metadata": {},
   "source": [
    "## CNN tests"
   ]
  },
  {
   "cell_type": "markdown",
   "metadata": {},
   "source": [
    "Here I show how to use functions from 'CNN_models.py'.\n",
    "\n",
    "The script 'test_models.py' uses the same syntax"
   ]
  },
  {
   "cell_type": "code",
   "execution_count": 53,
   "metadata": {},
   "outputs": [],
   "source": [
    "%run -i 'preprocess.py'\n",
    "from preprocess import *\n",
    "from CNN_models import *\n",
    "import keras\n",
    "from keras.models import Sequential\n",
    "from keras.layers import Dense, Dropout, Flatten, Conv2D, MaxPooling2D\n",
    "from keras.utils import to_categorical"
   ]
  },
  {
   "cell_type": "code",
   "execution_count": 3,
   "metadata": {},
   "outputs": [
    {
     "name": "stdout",
     "output_type": "stream",
     "text": [
      "tensorflow          1.8.0    \r\n"
     ]
    }
   ],
   "source": [
    "!pip list | grep tensorflow"
   ]
  },
  {
   "cell_type": "code",
   "execution_count": 4,
   "metadata": {},
   "outputs": [
    {
     "name": "stdout",
     "output_type": "stream",
     "text": [
      "Collecting tensorflow-gpu==1.4.1\n",
      "\u001b[?25l  Downloading https://files.pythonhosted.org/packages/e3/d3/4a356db5b6a2c9dcb30011280bc065cf51de1e4ab5a5fee44eb460a98449/tensorflow_gpu-1.4.1-cp36-cp36m-manylinux1_x86_64.whl (170.3MB)\n",
      "\u001b[K    100% |████████████████████████████████| 170.3MB 19kB/s  eta 0:00:01 2% |▉                               | 4.4MB 9.1MB/s eta 0:00:19    5% |██                              | 10.1MB 21.2MB/s eta 0:00:08    21% |███████                         | 36.7MB 53.1MB/s eta 0:00:03    34% |███████████                     | 58.1MB 54.1MB/s eta 0:00:03    95% |██████████████████████████████▌ | 162.6MB 65.1MB/s eta 0:00:01\n",
      "\u001b[?25hRequirement already satisfied: numpy>=1.12.1 in /galileo/home/userexternal/gcarbone/virtual_jupyter/lib/python3.6/site-packages (from tensorflow-gpu==1.4.1) (1.14.5)\n",
      "Requirement already satisfied: protobuf>=3.3.0 in /galileo/home/userexternal/gcarbone/virtual_jupyter/lib/python3.6/site-packages (from tensorflow-gpu==1.4.1) (3.6.0)\n",
      "Collecting enum34>=1.1.6 (from tensorflow-gpu==1.4.1)\n",
      "  Downloading https://files.pythonhosted.org/packages/af/42/cb9355df32c69b553e72a2e28daee25d1611d2c0d9c272aa1d34204205b2/enum34-1.1.6-py3-none-any.whl\n",
      "Requirement already satisfied: wheel>=0.26 in /galileo/home/userexternal/gcarbone/virtual_jupyter/lib/python3.6/site-packages (from tensorflow-gpu==1.4.1) (0.31.1)\n",
      "Collecting tensorflow-tensorboard<0.5.0,>=0.4.0rc1 (from tensorflow-gpu==1.4.1)\n",
      "\u001b[?25l  Downloading https://files.pythonhosted.org/packages/e9/9f/5845c18f9df5e7ea638ecf3a272238f0e7671e454faa396b5188c6e6fc0a/tensorflow_tensorboard-0.4.0-py3-none-any.whl (1.7MB)\n",
      "\u001b[K    100% |████████████████████████████████| 1.7MB 3.7MB/s eta 0:00:01\n",
      "\u001b[?25hRequirement already satisfied: six>=1.10.0 in /galileo/home/userexternal/gcarbone/virtual_jupyter/lib/python3.6/site-packages (from tensorflow-gpu==1.4.1) (1.11.0)\n",
      "Requirement already satisfied: setuptools in /galileo/home/userexternal/gcarbone/virtual_jupyter/lib/python3.6/site-packages (from protobuf>=3.3.0->tensorflow-gpu==1.4.1) (39.1.0)\n",
      "Requirement already satisfied: html5lib==0.9999999 in /galileo/home/userexternal/gcarbone/virtual_jupyter/lib/python3.6/site-packages (from tensorflow-tensorboard<0.5.0,>=0.4.0rc1->tensorflow-gpu==1.4.1) (0.9999999)\n",
      "Requirement already satisfied: markdown>=2.6.8 in /galileo/home/userexternal/gcarbone/virtual_jupyter/lib/python3.6/site-packages (from tensorflow-tensorboard<0.5.0,>=0.4.0rc1->tensorflow-gpu==1.4.1) (2.6.11)\n",
      "Requirement already satisfied: bleach==1.5.0 in /galileo/home/userexternal/gcarbone/virtual_jupyter/lib/python3.6/site-packages (from tensorflow-tensorboard<0.5.0,>=0.4.0rc1->tensorflow-gpu==1.4.1) (1.5.0)\n",
      "Requirement already satisfied: werkzeug>=0.11.10 in /galileo/home/userexternal/gcarbone/virtual_jupyter/lib/python3.6/site-packages (from tensorflow-tensorboard<0.5.0,>=0.4.0rc1->tensorflow-gpu==1.4.1) (0.14.1)\n",
      "Installing collected packages: enum34, tensorflow-tensorboard, tensorflow-gpu\n",
      "Successfully installed enum34-1.1.6 tensorflow-gpu-1.4.1 tensorflow-tensorboard-0.4.0\n"
     ]
    }
   ],
   "source": [
    "!pip install tensorflow-gpu==1.4.1"
   ]
  },
  {
   "cell_type": "code",
   "execution_count": 44,
   "metadata": {},
   "outputs": [
    {
     "data": {
      "text/plain": [
       "['backward',\n",
       " 'bed',\n",
       " 'bird',\n",
       " 'cat',\n",
       " 'dog',\n",
       " 'down',\n",
       " 'eight',\n",
       " 'five',\n",
       " 'follow',\n",
       " 'forward',\n",
       " 'four',\n",
       " 'go',\n",
       " 'happy',\n",
       " 'house',\n",
       " 'learn',\n",
       " 'left',\n",
       " 'marvin',\n",
       " 'nine',\n",
       " 'no',\n",
       " 'off',\n",
       " 'on',\n",
       " 'one',\n",
       " 'right',\n",
       " 'seven',\n",
       " 'sheila',\n",
       " 'six',\n",
       " 'stop',\n",
       " 'three',\n",
       " 'tree',\n",
       " 'two',\n",
       " 'up',\n",
       " 'visual',\n",
       " 'wow',\n",
       " 'yes',\n",
       " 'zero']"
      ]
     },
     "execution_count": 44,
     "metadata": {},
     "output_type": "execute_result"
    }
   ],
   "source": [
    "labels, _, _ = get_labels()\n",
    "labels"
   ]
  },
  {
   "cell_type": "code",
   "execution_count": 45,
   "metadata": {},
   "outputs": [],
   "source": [
    "# Loading train set and test set\n",
    "X_train, X_test, y_train, y_test = get_train_test()\n",
    "\n",
    "# Feature dimension\n",
    "feature_dim_1 = 20\n",
    "feature_dim_2 = 11\n",
    "channel = 1\n",
    "epochs = 50\n",
    "batch_size = 100\n",
    "verbose = 1\n",
    "num_classes = len(labels) # 35 without background noise"
   ]
  },
  {
   "cell_type": "code",
   "execution_count": 46,
   "metadata": {},
   "outputs": [],
   "source": [
    "# Reshaping to perform 2D convolution, which is spatial convolution over images\n",
    "X_train = X_train.reshape(X_train.shape[0], feature_dim_1, feature_dim_2, channel)\n",
    "X_test = X_test.reshape(X_test.shape[0], feature_dim_1, feature_dim_2, channel)\n",
    "\n",
    "y_train_hot = to_categorical(y_train)\n",
    "y_test_hot = to_categorical(y_test)"
   ]
  },
  {
   "cell_type": "code",
   "execution_count": null,
   "metadata": {},
   "outputs": [],
   "source": [
    "!nvidia-smi"
   ]
  },
  {
   "cell_type": "code",
   "execution_count": 47,
   "metadata": {},
   "outputs": [
    {
     "name": "stdout",
     "output_type": "stream",
     "text": [
      "Train on 300 samples, validate on 150 samples\n",
      "Epoch 1/30\n",
      "300/300 [==============================] - 1s 2ms/step - loss: 6.3402 - acc: 0.0233 - val_loss: 4.1613 - val_acc: 0.0333\n",
      "Epoch 2/30\n",
      "300/300 [==============================] - 0s 505us/step - loss: 4.1944 - acc: 0.0300 - val_loss: 3.6185 - val_acc: 0.0333\n",
      "Epoch 3/30\n",
      "300/300 [==============================] - 0s 484us/step - loss: 3.6854 - acc: 0.0467 - val_loss: 3.5834 - val_acc: 0.0133\n",
      "Epoch 4/30\n",
      "300/300 [==============================] - 0s 481us/step - loss: 3.6195 - acc: 0.0500 - val_loss: 3.5513 - val_acc: 0.0400\n",
      "Epoch 5/30\n",
      "300/300 [==============================] - 0s 463us/step - loss: 3.5552 - acc: 0.0333 - val_loss: 3.5556 - val_acc: 0.0333\n",
      "Epoch 6/30\n",
      "300/300 [==============================] - 0s 424us/step - loss: 3.5473 - acc: 0.0567 - val_loss: 3.5651 - val_acc: 0.0067\n",
      "Epoch 7/30\n",
      "300/300 [==============================] - 0s 414us/step - loss: 3.5205 - acc: 0.0600 - val_loss: 3.5904 - val_acc: 0.0467\n",
      "Epoch 8/30\n",
      "300/300 [==============================] - 0s 399us/step - loss: 3.5696 - acc: 0.0500 - val_loss: 3.5451 - val_acc: 0.0200\n",
      "Epoch 9/30\n",
      "300/300 [==============================] - 0s 406us/step - loss: 3.4828 - acc: 0.0367 - val_loss: 3.5393 - val_acc: 0.0133\n",
      "Epoch 10/30\n",
      "300/300 [==============================] - 0s 402us/step - loss: 3.4957 - acc: 0.0567 - val_loss: 3.5356 - val_acc: 0.0133\n",
      "Epoch 11/30\n",
      "300/300 [==============================] - 0s 390us/step - loss: 3.4775 - acc: 0.0633 - val_loss: 3.5311 - val_acc: 0.0133\n",
      "Epoch 12/30\n",
      "300/300 [==============================] - 0s 382us/step - loss: 3.4534 - acc: 0.0433 - val_loss: 3.5252 - val_acc: 0.0333\n",
      "Epoch 13/30\n",
      "300/300 [==============================] - 0s 381us/step - loss: 3.4551 - acc: 0.0900 - val_loss: 3.5409 - val_acc: 0.0533\n",
      "Epoch 14/30\n",
      "300/300 [==============================] - 0s 390us/step - loss: 3.4517 - acc: 0.0600 - val_loss: 3.5258 - val_acc: 0.0867\n",
      "Epoch 15/30\n",
      "300/300 [==============================] - 0s 394us/step - loss: 3.3578 - acc: 0.1167 - val_loss: 3.5164 - val_acc: 0.0467\n",
      "Epoch 16/30\n",
      "300/300 [==============================] - 0s 394us/step - loss: 3.4027 - acc: 0.0567 - val_loss: 3.5004 - val_acc: 0.0333\n",
      "Epoch 17/30\n",
      "300/300 [==============================] - 0s 400us/step - loss: 3.3796 - acc: 0.0667 - val_loss: 3.5463 - val_acc: 0.0733\n",
      "Epoch 18/30\n",
      "300/300 [==============================] - 0s 402us/step - loss: 3.3189 - acc: 0.0933 - val_loss: 3.5031 - val_acc: 0.0467\n",
      "Epoch 19/30\n",
      "300/300 [==============================] - 0s 380us/step - loss: 3.3402 - acc: 0.0767 - val_loss: 3.5049 - val_acc: 0.0667\n",
      "Epoch 20/30\n",
      "300/300 [==============================] - 0s 398us/step - loss: 3.2634 - acc: 0.0867 - val_loss: 3.5229 - val_acc: 0.0867\n",
      "Epoch 21/30\n",
      "300/300 [==============================] - 0s 397us/step - loss: 3.2346 - acc: 0.1133 - val_loss: 3.4983 - val_acc: 0.0667\n",
      "Epoch 22/30\n",
      "300/300 [==============================] - 0s 390us/step - loss: 3.2591 - acc: 0.1233 - val_loss: 3.5184 - val_acc: 0.0733\n",
      "Epoch 23/30\n",
      "300/300 [==============================] - 0s 395us/step - loss: 3.1980 - acc: 0.1300 - val_loss: 3.5014 - val_acc: 0.0933\n",
      "Epoch 24/30\n",
      "300/300 [==============================] - 0s 440us/step - loss: 3.1922 - acc: 0.1167 - val_loss: 3.5031 - val_acc: 0.1000\n",
      "Epoch 25/30\n",
      "300/300 [==============================] - 0s 389us/step - loss: 3.0828 - acc: 0.1600 - val_loss: 3.5133 - val_acc: 0.0533\n",
      "Epoch 26/30\n",
      "300/300 [==============================] - 0s 389us/step - loss: 3.0254 - acc: 0.1633 - val_loss: 3.5639 - val_acc: 0.0733\n",
      "Epoch 27/30\n",
      "300/300 [==============================] - 0s 395us/step - loss: 3.0868 - acc: 0.1600 - val_loss: 3.5067 - val_acc: 0.0800\n",
      "Epoch 28/30\n",
      "300/300 [==============================] - 0s 398us/step - loss: 2.9689 - acc: 0.1700 - val_loss: 3.5216 - val_acc: 0.0867\n",
      "Epoch 29/30\n",
      "300/300 [==============================] - 0s 382us/step - loss: 2.8419 - acc: 0.2100 - val_loss: 3.4529 - val_acc: 0.0933\n",
      "Epoch 30/30\n",
      "300/300 [==============================] - 0s 386us/step - loss: 2.7522 - acc: 0.2367 - val_loss: 3.4785 - val_acc: 0.0933\n"
     ]
    },
    {
     "data": {
      "text/plain": [
       "<keras.callbacks.History at 0x7fb67794a240>"
      ]
     },
     "execution_count": 47,
     "metadata": {},
     "output_type": "execute_result"
    }
   ],
   "source": [
    "# taking a subset\n",
    "n = 300\n",
    "X_train = X_train[:n]\n",
    "X_test = X_test[:n//2]\n",
    "y_train_hot = y_train_hot[:n]\n",
    "y_test_hot = y_test_hot[:n//2]\n",
    "\n",
    "model_1 = model_1()\n",
    "model_1.fit(X_train, y_train_hot, batch_size=batch_size, epochs=30, verbose=verbose, validation_data=(X_test, y_test_hot))"
   ]
  },
  {
   "cell_type": "code",
   "execution_count": 48,
   "metadata": {},
   "outputs": [],
   "source": [
    "model_2 = model_2()\n",
    "model_2.fit(X_train, y_train_hot, batch_size=batch_size, epochs=10, verbose=verbose, validation_data=(X_test, y_test_hot))"
   ]
  },
  {
   "cell_type": "markdown",
   "metadata": {},
   "source": [
    "How to interpret validation loss and accuracy: https://github.com/keras-team/keras/issues/3755"
   ]
  },
  {
   "cell_type": "markdown",
   "metadata": {},
   "source": [
    "### Saving a model\n",
    "https://machinelearningmastery.com/save-load-keras-deep-learning-models/"
   ]
  },
  {
   "cell_type": "code",
   "execution_count": 68,
   "metadata": {},
   "outputs": [
    {
     "name": "stdout",
     "output_type": "stream",
     "text": [
      "Saved model to disk\n"
     ]
    }
   ],
   "source": [
    "save_model(model_1,'model_1')"
   ]
  },
  {
   "cell_type": "markdown",
   "metadata": {},
   "source": [
    "## Plot accuracy and loss from trained model"
   ]
  },
  {
   "cell_type": "code",
   "execution_count": 52,
   "metadata": {},
   "outputs": [
    {
     "data": {
      "text/plain": [
       "{'val_loss': [4.161268393198649,\n",
       "  3.6185030937194824,\n",
       "  3.583391030629476,\n",
       "  3.551316261291504,\n",
       "  3.555641015370687,\n",
       "  3.5651400089263916,\n",
       "  3.5904428958892822,\n",
       "  3.545081615447998,\n",
       "  3.539339542388916,\n",
       "  3.5356224377950034,\n",
       "  3.5310659408569336,\n",
       "  3.52516508102417,\n",
       "  3.540895462036133,\n",
       "  3.5257839361826577,\n",
       "  3.516409158706665,\n",
       "  3.5003585815429688,\n",
       "  3.546294371287028,\n",
       "  3.5030807654062905,\n",
       "  3.5049315293629966,\n",
       "  3.52286688486735,\n",
       "  3.4982986450195312,\n",
       "  3.5183610916137695,\n",
       "  3.5013561248779297,\n",
       "  3.5031421184539795,\n",
       "  3.5132869879404702,\n",
       "  3.5638996760050454,\n",
       "  3.50667937596639,\n",
       "  3.521624803543091,\n",
       "  3.4529008865356445,\n",
       "  3.4785029888153076],\n",
       " 'val_acc': [0.033333332588275276,\n",
       "  0.033333332588275276,\n",
       "  0.01333333303531011,\n",
       "  0.040000000347693764,\n",
       "  0.033333332588275276,\n",
       "  0.006666666517655055,\n",
       "  0.046666666865348816,\n",
       "  0.019999999552965164,\n",
       "  0.01333333303531011,\n",
       "  0.01333333303531011,\n",
       "  0.01333333303531011,\n",
       "  0.033333332588275276,\n",
       "  0.05333333214124044,\n",
       "  0.08666666597127914,\n",
       "  0.046666666865348816,\n",
       "  0.033333332588275276,\n",
       "  0.07333333417773247,\n",
       "  0.046666666865348816,\n",
       "  0.06666666641831398,\n",
       "  0.08666666721304257,\n",
       "  0.06666666641831398,\n",
       "  0.0733333354194959,\n",
       "  0.09333333373069763,\n",
       "  0.09999999900658925,\n",
       "  0.05333333214124044,\n",
       "  0.0733333316942056,\n",
       "  0.08000000069538753,\n",
       "  0.08666666845480601,\n",
       "  0.09333333373069763,\n",
       "  0.09333333124717076],\n",
       " 'loss': [6.340176264444987,\n",
       "  4.194368918736775,\n",
       "  3.6854395866394043,\n",
       "  3.61954673131307,\n",
       "  3.555218458175659,\n",
       "  3.54728635152181,\n",
       "  3.5205087661743164,\n",
       "  3.5695921579996743,\n",
       "  3.482762893040975,\n",
       "  3.4957101345062256,\n",
       "  3.4775193532307944,\n",
       "  3.4534264405568442,\n",
       "  3.4550789992014566,\n",
       "  3.451714356740316,\n",
       "  3.357810656229655,\n",
       "  3.4027019341786704,\n",
       "  3.3796282609303794,\n",
       "  3.3188835779825845,\n",
       "  3.340160846710205,\n",
       "  3.263352076212565,\n",
       "  3.2346197764078775,\n",
       "  3.259093761444092,\n",
       "  3.198045333226522,\n",
       "  3.19219970703125,\n",
       "  3.0827505588531494,\n",
       "  3.0254143873850503,\n",
       "  3.0868175824483237,\n",
       "  2.9688663482666016,\n",
       "  2.841936985651652,\n",
       "  2.752237558364868],\n",
       " 'acc': [0.02333333281179269,\n",
       "  0.029999999329447746,\n",
       "  0.04666666562358538,\n",
       "  0.049999999503294625,\n",
       "  0.033333332588275276,\n",
       "  0.05666666726271311,\n",
       "  0.05999999865889549,\n",
       "  0.049999999503294625,\n",
       "  0.03666666646798452,\n",
       "  0.05666666540006796,\n",
       "  0.06333333253860474,\n",
       "  0.04333333236475786,\n",
       "  0.08999999860922496,\n",
       "  0.05999999990065893,\n",
       "  0.11666666343808174,\n",
       "  0.056666666020949684,\n",
       "  0.06666666517655055,\n",
       "  0.09333333497246106,\n",
       "  0.07666666681567828,\n",
       "  0.08666666472951572,\n",
       "  0.11333333204189937,\n",
       "  0.12333333243926366,\n",
       "  0.13000000019868216,\n",
       "  0.11666666716337204,\n",
       "  0.16000000139077505,\n",
       "  0.1633333365122477,\n",
       "  0.15999999890724817,\n",
       "  0.17000000178813934,\n",
       "  0.20999999841054282,\n",
       "  0.23666665951410928]}"
      ]
     },
     "execution_count": 52,
     "metadata": {},
     "output_type": "execute_result"
    }
   ],
   "source": [
    "model_1.history.history"
   ]
  },
  {
   "cell_type": "code",
   "execution_count": 2,
   "metadata": {},
   "outputs": [],
   "source": [
    "# Visualize training history\n",
    "from keras.models import Sequential\n",
    "from keras.layers import Dense\n",
    "import matplotlib.pyplot as plt\n",
    "import numpy"
   ]
  },
  {
   "cell_type": "code",
   "execution_count": 84,
   "metadata": {},
   "outputs": [
    {
     "name": "stdout",
     "output_type": "stream",
     "text": [
      "Loaded model from disk\n",
      "<keras.engine.sequential.Sequential object at 0x7fb6764e0898>\n"
     ]
    }
   ],
   "source": [
    "loaded_model, history = load_model('model_1')\n",
    "print(loaded_model)"
   ]
  },
  {
   "cell_type": "code",
   "execution_count": 82,
   "metadata": {},
   "outputs": [
    {
     "data": {
      "text/plain": [
       "{'val_loss': [3.8275420665740967,\n",
       "  3.6104345321655273,\n",
       "  3.5447357495625815,\n",
       "  3.584341843922933,\n",
       "  3.558600982030233,\n",
       "  3.5354626178741455,\n",
       "  3.5676910877227783,\n",
       "  3.5247689882914224,\n",
       "  3.526780605316162,\n",
       "  3.5439727306365967,\n",
       "  3.5404814879099527,\n",
       "  3.526048262914022,\n",
       "  3.527485450108846,\n",
       "  3.569262742996216,\n",
       "  3.49522336324056,\n",
       "  3.525502363840739,\n",
       "  3.4819535414377847,\n",
       "  3.5126686890920005,\n",
       "  3.5506556034088135,\n",
       "  3.561649719874064,\n",
       "  3.5123932361602783,\n",
       "  3.4879082838694253,\n",
       "  3.490422328313192,\n",
       "  3.4267446200052896,\n",
       "  3.417163848876953,\n",
       "  3.4469597339630127,\n",
       "  3.43391489982605,\n",
       "  3.382267951965332,\n",
       "  3.4895129203796387,\n",
       "  3.510857105255127,\n",
       "  3.468839724858602,\n",
       "  3.521429936091105,\n",
       "  3.4542149702707925,\n",
       "  3.4333535035451255,\n",
       "  3.4200371901194253,\n",
       "  3.400012254714966,\n",
       "  3.642435312271118,\n",
       "  3.65041454633077,\n",
       "  3.4911580085754395,\n",
       "  3.694476763407389,\n",
       "  3.4965184529622397,\n",
       "  3.5987369219462075,\n",
       "  3.4723344643910727,\n",
       "  3.435585896174113,\n",
       "  3.5891242027282715,\n",
       "  3.638585646947225,\n",
       "  3.5610040028889975,\n",
       "  3.5743086338043213,\n",
       "  3.7286692460378013,\n",
       "  3.6870442231496177],\n",
       " 'val_acc': [0.019999999552965164,\n",
       "  0.033333332588275276,\n",
       "  0.05333333214124044,\n",
       "  0.05333333214124044,\n",
       "  0.046666666865348816,\n",
       "  0.04666666562358538,\n",
       "  0.03999999910593033,\n",
       "  0.06666666641831398,\n",
       "  0.040000000347693764,\n",
       "  0.03999999910593033,\n",
       "  0.05333333338300387,\n",
       "  0.05999999865889549,\n",
       "  0.04666666562358538,\n",
       "  0.05999999865889549,\n",
       "  0.07333333417773247,\n",
       "  0.06666666890184085,\n",
       "  0.046666666865348816,\n",
       "  0.04666666562358538,\n",
       "  0.05333333338300387,\n",
       "  0.05333333214124044,\n",
       "  0.0733333354194959,\n",
       "  0.06666666517655055,\n",
       "  0.08666666721304257,\n",
       "  0.08000000069538753,\n",
       "  0.10000000149011612,\n",
       "  0.12666666756073633,\n",
       "  0.08666666845480601,\n",
       "  0.10666666676600774,\n",
       "  0.0733333316942056,\n",
       "  0.08000000193715096,\n",
       "  0.09333333373069763,\n",
       "  0.10666666304071744,\n",
       "  0.05999999865889549,\n",
       "  0.08666666597127914,\n",
       "  0.1400000030795733,\n",
       "  0.11333333204189937,\n",
       "  0.0933333362142245,\n",
       "  0.10000000149011612,\n",
       "  0.08000000193715096,\n",
       "  0.10666666304071744,\n",
       "  0.1333333303531011,\n",
       "  0.08666666845480601,\n",
       "  0.13333333532015482,\n",
       "  0.12000000476837158,\n",
       "  0.15333333114782968,\n",
       "  0.11333333204189937,\n",
       "  0.12666666756073633,\n",
       "  0.15333333611488342,\n",
       "  0.11333333204189937,\n",
       "  0.16666666666666666],\n",
       " 'loss': [7.659812291463216,\n",
       "  4.016132593154907,\n",
       "  3.659539302190145,\n",
       "  3.5385707219441733,\n",
       "  3.5462592442830405,\n",
       "  3.5499420960744223,\n",
       "  3.5431434313456216,\n",
       "  3.5211147467295327,\n",
       "  3.4844786326090493,\n",
       "  3.455871820449829,\n",
       "  3.4382036526997886,\n",
       "  3.4998813470204673,\n",
       "  3.4551395575205484,\n",
       "  3.3897233804066977,\n",
       "  3.393101135889689,\n",
       "  3.303539752960205,\n",
       "  3.2977500756581626,\n",
       "  3.2854982217152915,\n",
       "  3.2350175380706787,\n",
       "  3.1924219131469727,\n",
       "  3.1452178160349527,\n",
       "  3.087832450866699,\n",
       "  2.9939827919006348,\n",
       "  3.0296148459116616,\n",
       "  2.8649484316507974,\n",
       "  2.8764168421427407,\n",
       "  2.8258716265360513,\n",
       "  2.7166873613993325,\n",
       "  2.6563258171081543,\n",
       "  2.680663824081421,\n",
       "  2.5130032698313394,\n",
       "  2.5927955309549966,\n",
       "  2.50561785697937,\n",
       "  2.4506744543711343,\n",
       "  2.3742411136627197,\n",
       "  2.1799941062927246,\n",
       "  1.9805856545766194,\n",
       "  1.9613070885340373,\n",
       "  2.0408827463785806,\n",
       "  1.7694816986719768,\n",
       "  1.791229486465454,\n",
       "  1.7208720048268635,\n",
       "  1.5595395962397258,\n",
       "  1.6597888469696045,\n",
       "  1.4839755296707153,\n",
       "  1.2951969703038533,\n",
       "  1.268567164738973,\n",
       "  1.2244107325871785,\n",
       "  1.2522836923599243,\n",
       "  1.1810942888259888],\n",
       " 'acc': [0.019999999552965164,\n",
       "  0.04333333298563957,\n",
       "  0.04333333236475786,\n",
       "  0.05999999990065893,\n",
       "  0.05333333400388559,\n",
       "  0.04999999888241291,\n",
       "  0.0366666658471028,\n",
       "  0.06333333253860474,\n",
       "  0.06333333253860474,\n",
       "  0.07333333293596904,\n",
       "  0.08666666597127914,\n",
       "  0.05333333214124044,\n",
       "  0.07333333107332389,\n",
       "  0.09999999900658925,\n",
       "  0.07666666557391484,\n",
       "  0.10000000149011612,\n",
       "  0.12666666756073633,\n",
       "  0.11999999980131786,\n",
       "  0.15333333363135657,\n",
       "  0.15666666626930237,\n",
       "  0.13333333283662796,\n",
       "  0.15000000099341074,\n",
       "  0.1633333365122477,\n",
       "  0.15333333611488342,\n",
       "  0.21000000337759653,\n",
       "  0.2233333388964335,\n",
       "  0.17333333690961203,\n",
       "  0.21999999384085336,\n",
       "  0.27666667103767395,\n",
       "  0.2566666652758916,\n",
       "  0.28666667143503827,\n",
       "  0.2733333359162013,\n",
       "  0.26999999582767487,\n",
       "  0.3399999936421712,\n",
       "  0.3399999936421712,\n",
       "  0.3633333345254262,\n",
       "  0.45666666825612384,\n",
       "  0.42999998728434247,\n",
       "  0.3799999952316284,\n",
       "  0.4699999888737996,\n",
       "  0.4833333194255829,\n",
       "  0.4899999996026357,\n",
       "  0.503333330154419,\n",
       "  0.5100000003973643,\n",
       "  0.5800000031789144,\n",
       "  0.6033333341280619,\n",
       "  0.6333333253860474,\n",
       "  0.649999996026357,\n",
       "  0.6266666452089945,\n",
       "  0.6299999952316284]}"
      ]
     },
     "execution_count": 82,
     "metadata": {},
     "output_type": "execute_result"
    }
   ],
   "source": [
    "history"
   ]
  },
  {
   "cell_type": "code",
   "execution_count": 85,
   "metadata": {},
   "outputs": [
    {
     "data": {
      "image/png": "[encoded data removed]",
      "text/plain": [
       "<Figure size 432x288 with 1 Axes>"
      ]
     },
     "metadata": {},
     "output_type": "display_data"
    },
    {
     "data": {
      "image/png": "[encoded data removed]",
      "text/plain": [
       "<Figure size 432x288 with 1 Axes>"
      ]
     },
     "metadata": {},
     "output_type": "display_data"
    }
   ],
   "source": [
    "# this is just a stupid example\n",
    "plot_history(history)"
   ]
  }
 ],
 "metadata": {
  "anaconda-cloud": {},
  "kernelspec": {
   "display_name": "Python 3",
   "language": "python",
   "name": "python3"
  },
  "language_info": {
   "codemirror_mode": {
    "name": "ipython",
    "version": 3
   },
   "file_extension": ".py",
   "mimetype": "text/x-python",
   "name": "python",
   "nbconvert_exporter": "python",
   "pygments_lexer": "ipython3",
   "version": "3.6.4"
  }
 },
 "nbformat": 4,
 "nbformat_minor": 2
}
